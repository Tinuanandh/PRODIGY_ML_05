{
 "cells": [
  {
   "cell_type": "markdown",
   "metadata": {},
   "source": [
    "<h1 align=\"left\"><font color=#0a1f89>Description:</font></h1>  \n",
    "\n",
    "   The project aims to develop a deep learning model capable of accurately recognizing food items from images and estimating their calorie content. With the prevalence of smartphones and the increasing interest in health and nutrition, such a model could empower users to track their dietary intake more effectively, make informed food choices, and achieve their health and fitness goals. By leveraging advanced machine learning techniques, including convolutional neural networks (CNNs) for image recognition and regression algorithms for calorie estimation, the model seeks to provide users with a convenient and accessible tool for managing their nutrition."
   ]
  },
  {
   "cell_type": "markdown",
   "metadata": {},
   "source": [
    "\n",
    "\n",
    "<h1 align=\"left\"><font color=#0a1f89>Objectives:</font></h1>    \n",
    "    \n",
    "    \n",
    "- Download and extract Food 101 dataset.\n",
    "- Understand dataset structure and files.\n",
    "- Visualize random image from each of the 101 classes.\n",
    "- Split the image data into train and test using train.txt and test.txt.\n",
    "- Create a subset of data with few classes(3) - train_mini and test_mini for experimenting.\n",
    "- Fine tune Inception Pretrained model using Food 101 dataset.\n",
    "- Visualize accuracy and loss plots.\n",
    "- Predicting classes for new images from internet.\n",
    "- Scale up and fine tune Inceptionv3 model with 11 classes of data.\n",
    "- Model Explainability.\n",
    "- Summary of the things I tried.\n",
    "- Further improvements.\n",
    "- Feedback."
   ]
  },
  {
   "cell_type": "markdown",
   "metadata": {},
   "source": [
    "\n",
    "\n",
    "<h1 align=\"left\"><font color=#0a1f89>Applications </font></h1>\n",
    "    \n",
    "- **Dietary Tracking**: Users can track their daily food intake by simply taking photos of their meals, enabling them to monitor their calorie consumption and make adjustments to their diet as needed.\n",
    "    \n",
    "- **Health and Fitness Monitoring**: The model can provide valuable insights into users' nutritional habits, helping them make healthier food choices and achieve their fitness goals.\n",
    "\n",
    "- **Weight Management**: By accurately estimating the calorie content of meals, the model can assist individuals in managing their weight more effectively and maintaining a healthy lifestyle.\n",
    "\n",
    "- **Nutritional Education**: The model can serve as an educational tool by providing users with information about the nutritional content of various foods, fostering greater awareness of dietary choices and their impact on health.\n",
    "    \n",
    "- **Personalized Recommendations**: Over time, the model can learn users' preferences and dietary patterns, providing personalized recommendations for balanced meals and optimal nutrition.\n"
   ]
  },
  {
   "cell_type": "markdown",
   "metadata": {},
   "source": [
    "<font color=#0c741c>Let's get started:</font></h2>"
   ]
  },
  {
   "cell_type": "markdown",
   "metadata": {},
   "source": [
    "<p style=\"background-color: #742d0c; font-family:calibri; color:white; font-size:140%; font-family:Verdana; text-align:center; border-radius:15px 50px;\">Step 1 | Setup and Initialization</p>\n"
   ]
  },
  {
   "cell_type": "markdown",
   "metadata": {},
   "source": [
    " <b><span style='color:black'>Step 1.1 |</span><span style='color:#742d0c '> Importing Libraries</span></b>\n"
   ]
  },
  {
   "cell_type": "code",
   "execution_count": 51,
   "metadata": {
    "execution": {
     "iopub.execute_input": "2024-02-15T14:05:34.259141Z",
     "iopub.status.busy": "2024-02-15T14:05:34.258407Z",
     "iopub.status.idle": "2024-02-15T14:05:34.270382Z",
     "shell.execute_reply": "2024-02-15T14:05:34.269091Z",
     "shell.execute_reply.started": "2024-02-15T14:05:34.259109Z"
    }
   },
   "outputs": [],
   "source": [
    "import tensorflow as tf  # Import TensorFlow library for deep learning tasks\n",
    "import matplotlib.image as img  # Import matplotlib for image reading\n",
    "import numpy as np  # Import NumPy for numerical operations\n",
    "from collections import defaultdict  # Import defaultdict for creating dictionaries with default values\n",
    "import collections  # Import collections module for collection data types\n",
    "from shutil import copy  # Import shutil for high-level file operations\n",
    "from shutil import copytree, rmtree  # Import shutil for directory copying and removal\n",
    "import tensorflow.keras.backend as K  # Import Keras backend functions\n",
    "from tensorflow.keras.models import load_model  # Import Keras function for loading pre-trained models\n",
    "from tensorflow.keras.preprocessing import image  # Import Keras for image preprocessing\n",
    "import matplotlib.pyplot as plt  # Import matplotlib for visualization\n",
    "import os  # Import os module for operating system functions\n",
    "import random  # Import random module for generating random numbers\n",
    "import cv2  # Import OpenCV for image processing\n",
    "from tensorflow.keras import regularizers  # Import regularizers for regularization techniques\n",
    "from tensorflow.keras.applications.inception_v3 import InceptionV3  # Import pre-trained InceptionV3 model\n",
    "from tensorflow.keras.models import Sequential, Model  # Import Sequential and Model for building neural network models\n",
    "from tensorflow.keras.layers import Dense, Dropout, Activation, Flatten  # Import layers for building neural network architectures\n",
    "from tensorflow.keras.layers import Convolution2D, MaxPooling2D, ZeroPadding2D, GlobalAveragePooling2D, AveragePooling2D  # Import layers for building convolutional neural networks\n",
    "from tensorflow.keras.preprocessing.image import ImageDataGenerator  # Import ImageDataGenerator for data augmentation\n",
    "from tensorflow.keras.callbacks import ModelCheckpoint, CSVLogger  # Import callbacks for model saving and logging\n",
    "from tensorflow.keras.optimizers import SGD  # Import SGD optimizer for training models\n",
    "from tensorflow.keras.regularizers import l2  # Import L2 regularization\n",
    "from tensorflow import keras  # Import Keras for deep learning tasks\n",
    "from tensorflow.keras import models  # Import Keras for building neural network models\n",
    "import zipfile\n",
    "import os\n"
   ]
  },
  {
   "cell_type": "markdown",
   "metadata": {},
   "source": [
    " <b><span style='color:black'>Step 1.2 |</span><span style='color:#742d0c '> Checking State of GPU</span></b>\n"
   ]
  },
  {
   "cell_type": "code",
   "execution_count": 52,
   "metadata": {
    "execution": {
     "iopub.execute_input": "2024-02-15T14:05:34.290459Z",
     "iopub.status.busy": "2024-02-15T14:05:34.290166Z",
     "iopub.status.idle": "2024-02-15T14:05:34.296797Z",
     "shell.execute_reply": "2024-02-15T14:05:34.295916Z",
     "shell.execute_reply.started": "2024-02-15T14:05:34.290435Z"
    }
   },
   "outputs": [
    {
     "name": "stdout",
     "output_type": "stream",
     "text": [
      "2.15.0\n",
      "/device:GPU:0\n"
     ]
    }
   ],
   "source": [
    "# Check TensorFlow version\n",
    "print(tf.__version__)\n",
    "\n",
    "# Check GPU device name\n",
    "print(tf.test.gpu_device_name())\n"
   ]
  },
  {
   "cell_type": "markdown",
   "metadata": {},
   "source": [
    " <b><span style='color:black'>Step 1.3 |</span><span style='color:#742d0c '> Changing Directory</span></b>\n"
   ]
  },
  {
   "cell_type": "code",
   "execution_count": 53,
   "metadata": {
    "execution": {
     "iopub.execute_input": "2024-02-15T14:05:34.330989Z",
     "iopub.status.busy": "2024-02-15T14:05:34.330476Z",
     "iopub.status.idle": "2024-02-15T14:05:34.337803Z",
     "shell.execute_reply": "2024-02-15T14:05:34.336935Z",
     "shell.execute_reply.started": "2024-02-15T14:05:34.330963Z"
    }
   },
   "outputs": [
    {
     "name": "stdout",
     "output_type": "stream",
     "text": [
      "/kaggle/input/food-101\n"
     ]
    }
   ],
   "source": [
    "%cd /kaggle/input/food-101/"
   ]
  },
  {
   "cell_type": "markdown",
   "metadata": {},
   "source": [
    "<b><span style='color:black'>Step 1.4 |</span><span style='color:#742d0c '> Downloading and Extracting the Dataset</span></b>\n"
   ]
  },
  {
   "cell_type": "code",
   "execution_count": 54,
   "metadata": {
    "execution": {
     "iopub.execute_input": "2024-02-15T14:05:34.367904Z",
     "iopub.status.busy": "2024-02-15T14:05:34.367637Z",
     "iopub.status.idle": "2024-02-15T14:05:34.375405Z",
     "shell.execute_reply": "2024-02-15T14:05:34.374489Z",
     "shell.execute_reply.started": "2024-02-15T14:05:34.367882Z"
    }
   },
   "outputs": [],
   "source": [
    "def get_data_extract():\n",
    "    \"\"\"\n",
    "    Check if the dataset exists, and if not, download and extract it.\n",
    "    \"\"\"\n",
    "    if \"food-101\" in os.listdir():\n",
    "        print(\"Dataset already exists\")\n",
    "    else:\n",
    "        print(\"Downloading the data...\")\n",
    "        !wget http://data.vision.ee.ethz.ch/cvl/food-101.tar.gz\n",
    "        print(\"Dataset downloaded!\")\n",
    "        print(\"Extracting data..\")\n",
    "        !tar xzvf food-101.tar.gz\n",
    "        print(\"Extraction done!\")\n"
   ]
  },
  {
   "cell_type": "code",
   "execution_count": 55,
   "metadata": {
    "execution": {
     "iopub.execute_input": "2024-02-15T14:05:34.383711Z",
     "iopub.status.busy": "2024-02-15T14:05:34.383459Z",
     "iopub.status.idle": "2024-02-15T14:05:34.388114Z",
     "shell.execute_reply": "2024-02-15T14:05:34.387364Z",
     "shell.execute_reply.started": "2024-02-15T14:05:34.383689Z"
    }
   },
   "outputs": [
    {
     "name": "stdout",
     "output_type": "stream",
     "text": [
      "Dataset already exists\n"
     ]
    }
   ],
   "source": [
    "# Download data and extract it to folder\n",
    "# Uncomment this below line if you are on Colab\n",
    "\n",
    "get_data_extract()"
   ]
  },
  {
   "cell_type": "markdown",
   "metadata": {},
   "source": [
    "<p style=\"background-color: #742d0c; font-family:calibri; color:white; font-size:140%; font-family:Verdana; text-align:center; border-radius:15px 50px;\">Step 2 | Data Exploration and Verification</p>\n"
   ]
  },
  {
   "cell_type": "code",
   "execution_count": 56,
   "metadata": {
    "execution": {
     "iopub.execute_input": "2024-02-15T14:05:34.426616Z",
     "iopub.status.busy": "2024-02-15T14:05:34.426354Z",
     "iopub.status.idle": "2024-02-15T14:05:35.386843Z",
     "shell.execute_reply": "2024-02-15T14:05:35.385782Z",
     "shell.execute_reply.started": "2024-02-15T14:05:34.426594Z"
    }
   },
   "outputs": [
    {
     "name": "stdout",
     "output_type": "stream",
     "text": [
      "__MACOSX  food-101\n"
     ]
    }
   ],
   "source": [
    "# Check the extracted dataset folder\n",
    "!ls food-101/"
   ]
  },
  {
   "cell_type": "markdown",
   "metadata": {},
   "source": [
    "\n",
    "\n",
    "- The dataset being used is **[Food 101](https://www.vision.ee.ethz.ch/datasets_extra/food-101/)**\n",
    "- This dataset has 101000 images in total. It's a food dataset with 101 categories(multiclass)\n",
    "- Each type of food has 750 training samples and 250 test samples\n",
    "- Note found on the webpage of the dataset :  \n",
    "- On purpose, the training images were not cleaned, and thus still contain some amount of noise. This comes mostly in the form of intense colors and sometimes wrong labels. \n",
    "- All images were rescaled to have a maximum side length of 512 pixels.\n",
    "- The entire dataset is 5GB in size"
   ]
  },
  {
   "cell_type": "markdown",
   "metadata": {},
   "source": [
    " <b><span style='color:black'>Step 2.1 |</span><span style='color:#742d0c '> Understanding the Structure of Image Data</span></b>\n",
    "\n"
   ]
  },
  {
   "cell_type": "code",
   "execution_count": null,
   "metadata": {},
   "outputs": [],
   "source": [
    "os.listdir('food-101/images')"
   ]
  },
  {
   "cell_type": "markdown",
   "metadata": {},
   "source": [
    " <b><span style='color:black'>Step 2.2 |</span><span style='color:#742d0c '> Understanding the Metadata or Additional Information</span></b>\n",
    "\n",
    "Understanding the Metadata or Additional Information"
   ]
  },
  {
   "cell_type": "code",
   "execution_count": null,
   "metadata": {
    "execution": {
     "iopub.status.busy": "2024-02-15T14:05:35.439926Z",
     "iopub.status.idle": "2024-02-15T14:05:35.440289Z",
     "shell.execute_reply": "2024-02-15T14:05:35.440110Z",
     "shell.execute_reply.started": "2024-02-15T14:05:35.440096Z"
    }
   },
   "outputs": [],
   "source": [
    "os.listdir('food-101/meta')"
   ]
  },
  {
   "cell_type": "code",
   "execution_count": null,
   "metadata": {
    "execution": {
     "iopub.status.busy": "2024-02-15T14:05:35.441928Z",
     "iopub.status.idle": "2024-02-15T14:05:35.442303Z",
     "shell.execute_reply": "2024-02-15T14:05:35.442121Z",
     "shell.execute_reply.started": "2024-02-15T14:05:35.442107Z"
    }
   },
   "outputs": [],
   "source": [
    "!head food-101/meta/train.txt\n"
   ]
  },
  {
   "cell_type": "code",
   "execution_count": null,
   "metadata": {
    "execution": {
     "iopub.status.busy": "2024-02-15T14:05:35.443218Z",
     "iopub.status.idle": "2024-02-15T14:05:35.443582Z",
     "shell.execute_reply": "2024-02-15T14:05:35.443433Z",
     "shell.execute_reply.started": "2024-02-15T14:05:35.443419Z"
    }
   },
   "outputs": [],
   "source": [
    "!head food-101/meta/classes.txt"
   ]
  },
  {
   "cell_type": "markdown",
   "metadata": {},
   "source": [
    "<p style=\"background-color: #742d0c; font-family:calibri; color:white; font-size:140%; font-family:Verdana; text-align:center; border-radius:15px 50px;\">Step 3 | Data Visualization</p>\n"
   ]
  },
  {
   "cell_type": "code",
   "execution_count": null,
   "metadata": {
    "execution": {
     "iopub.status.busy": "2024-02-15T14:05:35.445351Z",
     "iopub.status.idle": "2024-02-15T14:05:35.445679Z",
     "shell.execute_reply": "2024-02-15T14:05:35.445530Z",
     "shell.execute_reply.started": "2024-02-15T14:05:35.445517Z"
    }
   },
   "outputs": [],
   "source": [
    "# Define the number of rows and columns for the subplot grid\n",
    "rows = 17\n",
    "cols = 6\n",
    "\n",
    "# Create a subplot grid with specified size\n",
    "fig, ax = plt.subplots(rows, cols, figsize=(25,25))\n",
    "\n",
    "# Set the title of the plot\n",
    "fig.suptitle(\"Showing one random image from each class\", y=1.05, fontsize=24)\n",
    "\n",
    "# Define the directory containing the image data\n",
    "data_dir = \"food-101/images/\"\n",
    "\n",
    "# Get a sorted list of food class names\n",
    "foods_sorted = sorted(os.listdir(data_dir))\n",
    "\n",
    "# Initialize food_id variable\n",
    "food_id = 0\n",
    "\n",
    "# Loop through rows and columns to display images\n",
    "for i in range(rows):\n",
    "    for j in range(cols):\n",
    "        try:\n",
    "            food_selected = foods_sorted[food_id] \n",
    "            food_id += 1\n",
    "        except:\n",
    "            break\n",
    "        if food_selected == '.DS_Store':\n",
    "            continue\n",
    "        # Get a list of images for the current food class\n",
    "        food_selected_images = os.listdir(os.path.join(data_dir, food_selected))\n",
    "        # Select a random image from the list\n",
    "        food_selected_random = np.random.choice(food_selected_images)\n",
    "        # Read and display the image\n",
    "        img = plt.imread(os.path.join(data_dir, food_selected, food_selected_random))\n",
    "        ax[i][j].imshow(img)\n",
    "        ax[i][j].set_title(food_selected, pad=10)  # Set the title of the subplot\n",
    "        \n",
    "# Remove x and y ticks from all subplots\n",
    "plt.setp(ax, xticks=[], yticks=[])\n",
    "\n",
    "# Adjust the layout of subplots to fit the figure\n",
    "plt.tight_layout()\n"
   ]
  },
  {
   "cell_type": "markdown",
   "metadata": {},
   "source": [
    " <p style=\"background-color: #742d0c; font-family:calibri; color:white; font-size:140%; font-family:Verdana; text-align:center; border-radius:15px 50px;\">Step 4 | Data Preprocessing</p>\n"
   ]
  },
  {
   "cell_type": "markdown",
   "metadata": {},
   "source": [
    " <b><span style='color:black'>Step 4.1 |</span><span style='color:#742d0c '> Data Splitting for Training and Test</span></b>\n"
   ]
  },
  {
   "cell_type": "code",
   "execution_count": null,
   "metadata": {
    "execution": {
     "iopub.status.busy": "2024-02-15T14:05:35.447116Z",
     "iopub.status.idle": "2024-02-15T14:05:35.447599Z",
     "shell.execute_reply": "2024-02-15T14:05:35.447383Z",
     "shell.execute_reply.started": "2024-02-15T14:05:35.447362Z"
    }
   },
   "outputs": [],
   "source": [
    "# Helper method to split dataset into train and test folders\n",
    "def prepare_data(filepath, src, dest):\n",
    "    # Create a dictionary to store image paths for each class\n",
    "    classes_images = defaultdict(list)\n",
    "    \n",
    "    # Read the filepath and extract image paths\n",
    "    with open(filepath, 'r') as txt:\n",
    "        paths = [read.strip() for read in txt.readlines()]\n",
    "        for p in paths:\n",
    "            food = p.split('/')\n",
    "            classes_images[food[0]].append(food[1] + '.jpg')\n",
    "\n",
    "    # Iterate over classes and copy images to destination folder\n",
    "    for food in classes_images.keys():\n",
    "        print(\"\\nCopying images into \", food)\n",
    "        if not os.path.exists(os.path.join(dest, food)):\n",
    "            os.makedirs(os.path.join(dest, food))\n",
    "        for i in classes_images[food]:\n",
    "            copy(os.path.join(src, food, i), os.path.join(dest, food, i))\n",
    "    print(\"Copying Done!\")\n"
   ]
  },
  {
   "cell_type": "markdown",
   "metadata": {},
   "source": [
    " <b><span style='color:black'>Step 4.2 |</span><span style='color:#742d0c '> Prepares the Train Dataset </span></b>\n",
    "\n"
   ]
  },
  {
   "cell_type": "code",
   "execution_count": null,
   "metadata": {
    "execution": {
     "iopub.status.busy": "2024-02-15T14:05:35.449957Z",
     "iopub.status.idle": "2024-02-15T14:05:35.450661Z",
     "shell.execute_reply": "2024-02-15T14:05:35.450427Z",
     "shell.execute_reply.started": "2024-02-15T14:05:35.450407Z"
    }
   },
   "outputs": [],
   "source": [
    "# Change current directory to the root directory\n",
    "%cd /\n",
    "\n",
    "# Print message indicating the start of creating train data\n",
    "print(\"Creating train data...\")\n",
    "\n",
    "# Call prepare_data function to copy images from train.txt to train directory\n",
    "prepare_data('/kaggle/input/food-101/food-101/meta/train.txt', '/kaggle/input/food-101/food-101/images', 'train')\n"
   ]
  },
  {
   "cell_type": "markdown",
   "metadata": {},
   "source": [
    "<b><span style='color:black'>Step 4.3 |</span><span style='color:#742d0c '> Creating the Test Data </span></b>\n"
   ]
  },
  {
   "cell_type": "code",
   "execution_count": null,
   "metadata": {
    "execution": {
     "iopub.status.busy": "2024-02-15T14:05:35.451795Z",
     "iopub.status.idle": "2024-02-15T14:05:35.452286Z",
     "shell.execute_reply": "2024-02-15T14:05:35.452048Z",
     "shell.execute_reply.started": "2024-02-15T14:05:35.452029Z"
    }
   },
   "outputs": [],
   "source": [
    "# Print message indicating the start of creating test data\n",
    "print(\"Creating test data...\")\n",
    "\n",
    "# Call prepare_data function to copy images from test.txt to test directory\n",
    "prepare_data('/kaggle/input/food-101/food-101/meta/test.txt', '/kaggle/input/food-101/food-101/images', 'test')\n"
   ]
  },
  {
   "cell_type": "markdown",
   "metadata": {},
   "source": [
    "<b><span style='color:black'>Step 4.4 |</span><span style='color:#742d0c '> Counting the Files and Directories in \"Train\" Folder </span></b>\n"
   ]
  },
  {
   "cell_type": "code",
   "execution_count": null,
   "metadata": {
    "execution": {
     "iopub.status.busy": "2024-02-15T14:05:35.454072Z",
     "iopub.status.idle": "2024-02-15T14:05:35.454535Z",
     "shell.execute_reply": "2024-02-15T14:05:35.454322Z",
     "shell.execute_reply.started": "2024-02-15T14:05:35.454303Z"
    }
   },
   "outputs": [],
   "source": [
    "# Print message indicating the total number of samples in the train folder\n",
    "print(\"Total number of samples in train folder\")\n",
    "\n",
    "# Execute the find command to search for files and directories in the train folder\n",
    "# -type d: Search for directories\n",
    "# -or: Logical OR operator\n",
    "# -type f: Search for regular files\n",
    "# -printf '.': Print a single character for each file or directory found\n",
    "# wc -c: Count the number of characters (which corresponds to the number of files and directories)\n",
    "!find train -type d -or -type f -printf '.' | wc -c\n"
   ]
  },
  {
   "cell_type": "markdown",
   "metadata": {},
   "source": [
    "<b><span style='color:black'>Step 4.5 |</span><span style='color:#742d0c '> Counting the Files and Directories in \"Test\" Folder </span></b>\n"
   ]
  },
  {
   "cell_type": "code",
   "execution_count": null,
   "metadata": {
    "execution": {
     "iopub.status.busy": "2024-02-15T14:05:35.455744Z",
     "iopub.status.idle": "2024-02-15T14:05:35.456200Z",
     "shell.execute_reply": "2024-02-15T14:05:35.455979Z",
     "shell.execute_reply.started": "2024-02-15T14:05:35.455961Z"
    }
   },
   "outputs": [],
   "source": [
    "# Print message indicating the total number of samples in the test folder\n",
    "print(\"Total number of samples in test folder\")\n",
    "\n",
    "# Execute the find command to search for files and directories in the test folder\n",
    "# -type d: Search for directories\n",
    "# -or: Logical OR operator\n",
    "# -type f: Search for regular files\n",
    "# -printf '.': Print a single character for each file or directory found\n",
    "# wc -c: Count the number of characters (which corresponds to the number of files and directories)\n",
    "!find test -type d -or -type f -printf '.' | wc -c\n"
   ]
  },
  {
   "cell_type": "markdown",
   "metadata": {},
   "source": [
    "\n",
    "\n",
    "- We now have train and test data ready  \n",
    "- But to experiment and try different architectures, working on the whole data with 101 classes takes a lot of time and computation  \n",
    "- To proceed with further experiments, I am creating train_min and test_mini, limiting the dataset to 3 classes  \n",
    "- Since the original problem is multiclass classification which makes key aspects of architectural decisions different from that of binary classification, choosing 3 classes is a good start instead of 2"
   ]
  },
  {
   "cell_type": "markdown",
   "metadata": {},
   "source": [
    "<b><span style='color:black'>Step 4.6 |</span><span style='color:#742d0c '> Removing the .DS_Store Entry </span></b>\n"
   ]
  },
  {
   "cell_type": "code",
   "execution_count": null,
   "metadata": {
    "execution": {
     "iopub.status.busy": "2024-02-15T14:05:35.457894Z",
     "iopub.status.idle": "2024-02-15T14:05:35.458549Z",
     "shell.execute_reply": "2024-02-15T14:05:35.458325Z",
     "shell.execute_reply.started": "2024-02-15T14:05:35.458302Z"
    }
   },
   "outputs": [],
   "source": [
    "# List of all 101 types of foods(sorted alphabetically)\n",
    "del foods_sorted[0] # remove .DS_Store from the list"
   ]
  },
  {
   "cell_type": "code",
   "execution_count": null,
   "metadata": {
    "execution": {
     "iopub.status.busy": "2024-02-15T14:05:35.459958Z",
     "iopub.status.idle": "2024-02-15T14:05:35.460415Z",
     "shell.execute_reply": "2024-02-15T14:05:35.460187Z",
     "shell.execute_reply.started": "2024-02-15T14:05:35.460169Z"
    }
   },
   "outputs": [],
   "source": [
    "print(foods_sorted)\n"
   ]
  },
  {
   "cell_type": "markdown",
   "metadata": {},
   "source": [
    " <b><span style='color:black'>Step 4.7 |</span><span style='color:#742d0c '> Creaing Subset </span></b>\n"
   ]
  },
  {
   "cell_type": "code",
   "execution_count": null,
   "metadata": {
    "execution": {
     "iopub.status.busy": "2024-02-15T14:05:35.461563Z",
     "iopub.status.idle": "2024-02-15T14:05:35.461997Z",
     "shell.execute_reply": "2024-02-15T14:05:35.461785Z",
     "shell.execute_reply.started": "2024-02-15T14:05:35.461767Z"
    }
   },
   "outputs": [],
   "source": [
    "# Helper method to create train_mini and test_mini data samples\n",
    "def dataset_mini(food_list, src, dest):\n",
    "    # Check if the destination directory exists\n",
    "    if os.path.exists(dest):\n",
    "        # If it exists, remove it to ensure a clean slate\n",
    "        rmtree(dest)  # Removing dataset_mini (if it already exists) folders\n",
    "    # Create the destination directory\n",
    "    os.makedirs(dest)\n",
    "    \n",
    "    # Iterate over each food item in the provided list\n",
    "    for food_item in food_list:\n",
    "        print(\"Copying images into\", food_item)\n",
    "        # Recursively copy the images from the source directory to the destination directory for each food item\n",
    "        copytree(os.path.join(src, food_item), os.path.join(dest, food_item))\n"
   ]
  },
  {
   "cell_type": "code",
   "execution_count": null,
   "metadata": {
    "execution": {
     "iopub.status.busy": "2024-02-15T14:05:35.463194Z",
     "iopub.status.idle": "2024-02-15T14:05:35.463660Z",
     "shell.execute_reply": "2024-02-15T14:05:35.463449Z",
     "shell.execute_reply.started": "2024-02-15T14:05:35.463429Z"
    }
   },
   "outputs": [],
   "source": [
    "# List of food items for creating mini datasets\n",
    "food_list = ['apple_pie', 'pizza', 'omelette']\n",
    "\n",
    "# Source and destination directories for train and test datasets\n",
    "src_train = 'train'\n",
    "dest_train = 'train_mini'\n",
    "src_test = 'test'\n",
    "dest_test = 'test_mini'\n",
    "\n",
    "# Create train_mini dataset\n",
    "dataset_mini(food_list, src_train, dest_train)\n",
    "\n",
    "# Create test_mini dataset\n",
    "dataset_mini(food_list, src_test, dest_test)\n"
   ]
  },
  {
   "cell_type": "code",
   "execution_count": null,
   "metadata": {
    "execution": {
     "iopub.status.busy": "2024-02-15T14:05:35.464784Z",
     "iopub.status.idle": "2024-02-15T14:05:35.465231Z",
     "shell.execute_reply": "2024-02-15T14:05:35.465019Z",
     "shell.execute_reply.started": "2024-02-15T14:05:35.464999Z"
    }
   },
   "outputs": [],
   "source": [
    "# Print message indicating the creation of the train data folder with new classes\n",
    "print(\"Creating train data folder with new classes\")\n",
    "\n",
    "# Create train_mini dataset with specified food classes\n",
    "dataset_mini(food_list, src_train, dest_train)\n"
   ]
  },
  {
   "cell_type": "code",
   "execution_count": null,
   "metadata": {
    "execution": {
     "iopub.status.busy": "2024-02-15T14:05:35.467002Z",
     "iopub.status.idle": "2024-02-15T14:05:35.467472Z",
     "shell.execute_reply": "2024-02-15T14:05:35.467233Z",
     "shell.execute_reply.started": "2024-02-15T14:05:35.467215Z"
    }
   },
   "outputs": [],
   "source": [
    "# Print message indicating the total number of samples in the train folder\n",
    "print(\"Total number of samples in train folder\")\n",
    "\n",
    "# Execute the find command to search for files and directories in the train_mini folder\n",
    "# -type d: Search for directories\n",
    "# -or: Logical OR operator\n",
    "# -type f: Search for regular files\n",
    "# -printf '.': Print a single character for each file or directory found\n",
    "# wc -c: Count the number of characters (which corresponds to the number of files and directories)\n",
    "!find train_mini -type d -or -type f -printf '.' | wc -c\n"
   ]
  },
  {
   "cell_type": "code",
   "execution_count": null,
   "metadata": {
    "execution": {
     "iopub.status.busy": "2024-02-15T14:05:35.468567Z",
     "iopub.status.idle": "2024-02-15T14:05:35.468911Z",
     "shell.execute_reply": "2024-02-15T14:05:35.468760Z",
     "shell.execute_reply.started": "2024-02-15T14:05:35.468746Z"
    }
   },
   "outputs": [],
   "source": [
    "# Print message indicating the creation of the test data folder with new classes\n",
    "print(\"Creating test data folder with new classes\")\n",
    "\n",
    "# Create test_mini dataset with specified food classes\n",
    "dataset_mini(food_list, src_test, dest_test)\n"
   ]
  },
  {
   "cell_type": "code",
   "execution_count": null,
   "metadata": {
    "execution": {
     "iopub.status.busy": "2024-02-15T14:05:35.470119Z",
     "iopub.status.idle": "2024-02-15T14:05:35.470472Z",
     "shell.execute_reply": "2024-02-15T14:05:35.470314Z",
     "shell.execute_reply.started": "2024-02-15T14:05:35.470300Z"
    }
   },
   "outputs": [],
   "source": [
    "# Print message indicating the total number of samples in the test folder\n",
    "print(\"Total number of samples in test folder\")\n",
    "\n",
    "# Execute the find command to search for files and directories in the test_mini folder\n",
    "# -type d: Search for directories\n",
    "# -or: Logical OR operator\n",
    "# -type f: Search for regular files\n",
    "# -printf '.': Print a single character for each file or directory found\n",
    "# wc -c: Count the number of characters (which corresponds to the number of files and directories)\n",
    "!find test_mini -type d -or -type f -printf '.' | wc -c\n"
   ]
  },
  {
   "cell_type": "markdown",
   "metadata": {},
   "source": [
    " <p style=\"background-color: #742d0c; font-family:calibri; color:white; font-size:140%; font-family:Verdana; text-align:center; border-radius:15px 50px;\">Step 5 | Training Neural Network Model for Image Classification</p>\n",
    "\n"
   ]
  },
  {
   "cell_type": "markdown",
   "metadata": {},
   "source": [
    "\n",
    "- Keras and other Deep Learning libraries provide pretrained models  \n",
    "- These are deep neural networks with efficient architectures(like VGG,Inception,ResNet) that are already trained on datasets like ImageNet  \n",
    "- Using these pretrained models, we can use the already learned weights and add few layers on top to finetune the model to our new data  \n",
    "- This helps in faster convergance and saves time and computation when compared to models trained from scratch"
   ]
  },
  {
   "cell_type": "markdown",
   "metadata": {},
   "source": [
    "\n",
    "- We currently have a subset of dataset with 3 classes - samosa, pizza and omelette  \n",
    "- Use the below code to finetune Inceptionv3 pretrained model"
   ]
  },
  {
   "cell_type": "markdown",
   "metadata": {},
   "source": [
    " <p style=\"background-color: #742d0c; font-family:calibri; color:white; font-size:170%; font-family:Verdana; text-align:center; border-radius:15px 50px;\">Fine tune Inception Pretrained model using Food 101 dataset</p>\n"
   ]
  },
  {
   "cell_type": "code",
   "execution_count": null,
   "metadata": {
    "execution": {
     "iopub.status.busy": "2024-02-15T14:05:35.471713Z",
     "iopub.status.idle": "2024-02-15T14:05:35.472065Z",
     "shell.execute_reply": "2024-02-15T14:05:35.471912Z",
     "shell.execute_reply.started": "2024-02-15T14:05:35.471886Z"
    }
   },
   "outputs": [],
   "source": [
    "# Clear Keras session to release resources\n",
    "K.clear_session()\n",
    "\n",
    "# Number of classes in the dataset\n",
    "n_classes = 3\n",
    "\n",
    "# Image dimensions\n",
    "img_width, img_height = 299, 299\n",
    "\n",
    "# Directories for training and validation data\n",
    "train_data_dir = 'train_mini'\n",
    "validation_data_dir = 'test_mini'\n",
    "\n",
    "# Number of samples in the training and validation sets\n",
    "nb_train_samples = 2250  # Number of training samples\n",
    "nb_validation_samples = 750  # Number of validation samples\n",
    "\n",
    "# Batch size for training\n",
    "batch_size = 16\n",
    "\n",
    "# Data augmentation and normalization for training images\n",
    "train_datagen = ImageDataGenerator(\n",
    "    rescale=1. / 255,  # Normalize pixel values to the range [0,1]\n",
    "    shear_range=0.2,   # Shear transformation\n",
    "    zoom_range=0.2,    # Random zoom\n",
    "    horizontal_flip=True)  # Horizontal flip\n",
    "\n",
    "# Normalization for validation images\n",
    "test_datagen = ImageDataGenerator(rescale=1. / 255)  # Normalize pixel values to the range [0,1]\n",
    "\n",
    "# Generate batches of training data\n",
    "train_generator = train_datagen.flow_from_directory(\n",
    "    train_data_dir,  # Path to the training data directory\n",
    "    target_size=(img_height, img_width),  # Resize images to match the input size of the model\n",
    "    batch_size=batch_size,  # Number of samples per batch\n",
    "    class_mode='categorical')  # Use categorical labels for multi-class classification\n",
    "\n",
    "# Generate batches of validation data\n",
    "validation_generator = test_datagen.flow_from_directory(\n",
    "    validation_data_dir,  # Path to the validation data directory\n",
    "    target_size=(img_height, img_width),  # Resize images to match the input size of the model\n",
    "    batch_size=batch_size,  # Number of samples per batch\n",
    "    class_mode='categorical')  # Use categorical labels for multi-class classification\n",
    "\n",
    "# Load the pre-trained InceptionV3 model without the top layers\n",
    "inception = InceptionV3(weights='imagenet', include_top=False)\n",
    "\n",
    "# Add custom top layers for fine-tuning\n",
    "x = inception.output  # Output tensor of the InceptionV3 model\n",
    "x = GlobalAveragePooling2D()(x)  # Global average pooling layer\n",
    "x = Dense(128, activation='relu')(x)  # Fully connected layer with ReLU activation\n",
    "x = Dropout(0.2)(x)  # Dropout layer for regularization\n",
    "\n",
    "# Predictions layer with softmax activation for class probabilities\n",
    "predictions = Dense(3, kernel_regularizer=regularizers.l2(0.005), activation='softmax')(x)\n",
    "\n",
    "# Create the final model with InceptionV3 as the base and custom top layers\n",
    "model = Model(inputs=inception.input, outputs=predictions)\n",
    "\n",
    "# Compile the model with SGD optimizer, categorical cross-entropy loss, and accuracy metric\n",
    "model.compile(optimizer=SGD(lr=0.0001, momentum=0.9), loss='categorical_crossentropy', metrics=['accuracy'])\n",
    "\n",
    "# Define callbacks for saving the best model and logging training history\n",
    "checkpointer = ModelCheckpoint(filepath='best_model_3class.hdf5', verbose=1, save_best_only=True)\n",
    "csv_logger = CSVLogger('history_3class.log')\n",
    "\n",
    "# Train the model using the training and validation generators\n",
    "history = model.fit_generator(\n",
    "    train_generator,\n",
    "    steps_per_epoch=nb_train_samples // batch_size,  # Number of batches per epoch\n",
    "    validation_data=validation_generator,\n",
    "    validation_steps=nb_validation_samples // batch_size,  # Number of validation batches per epoch\n",
    "    epochs=30,  # Number of training epochs\n",
    "    verbose=1,  # Verbosity mode (0=silent, 1=progress bar, 2=one line per epoch)\n",
    "    callbacks=[csv_logger, checkpointer])  # List of callbacks for training\n",
    "\n",
    "# Save the trained model\n",
    "model.save('model_trained_3class.hdf5')  # Save the model to HDF5 file format\n"
   ]
  },
  {
   "cell_type": "markdown",
   "metadata": {},
   "source": [
    "<b><span style='color:black'>Step 5.1 |</span><span style='color:#742d0c '> Obtaining the Class Indices Mapping </span></b>\n"
   ]
  },
  {
   "cell_type": "code",
   "execution_count": null,
   "metadata": {
    "execution": {
     "iopub.status.busy": "2024-02-15T14:05:35.473496Z",
     "iopub.status.idle": "2024-02-15T14:05:35.473838Z",
     "shell.execute_reply": "2024-02-15T14:05:35.473681Z",
     "shell.execute_reply.started": "2024-02-15T14:05:35.473667Z"
    }
   },
   "outputs": [],
   "source": [
    "# Get the class indices mapping for the labels in the training data generator\n",
    "class_map_3 = train_generator.class_indices\n",
    "\n",
    "# Display the class indices mapping\n",
    "class_map_3\n"
   ]
  },
  {
   "cell_type": "markdown",
   "metadata": {},
   "source": [
    "<b><span style='color:black'>Step 5.2 |</span><span style='color:#742d0c '> Visualizing the Training and Validation Accuracy </span></b>\n",
    "\n"
   ]
  },
  {
   "cell_type": "code",
   "execution_count": null,
   "metadata": {
    "execution": {
     "iopub.status.busy": "2024-02-15T14:05:35.475075Z",
     "iopub.status.idle": "2024-02-15T14:05:35.475439Z",
     "shell.execute_reply": "2024-02-15T14:05:35.475281Z",
     "shell.execute_reply.started": "2024-02-15T14:05:35.475262Z"
    }
   },
   "outputs": [],
   "source": [
    "def plot_accuracy(history, title):\n",
    "    \"\"\"\n",
    "    Plot training and validation accuracy over epochs.\n",
    "    \n",
    "    Args:\n",
    "    - history: Training history obtained from model training\n",
    "    - title: Title of the plot\n",
    "    \n",
    "    Returns:\n",
    "    - None\n",
    "    \"\"\"\n",
    "    plt.title(title)\n",
    "    plt.plot(history.history['acc'])\n",
    "    plt.plot(history.history['val_acc'])\n",
    "    plt.ylabel('accuracy')\n",
    "    plt.xlabel('epoch')\n",
    "    plt.legend(['train_accuracy', 'validation_accuracy'], loc='best')\n",
    "    plt.show()\n",
    "\n",
    "def plot_loss(history, title):\n",
    "    \"\"\"\n",
    "    Plot training and validation loss over epochs.\n",
    "    \n",
    "    Args:\n",
    "    - history: Training history obtained from model training\n",
    "    - title: Title of the plot\n",
    "    \n",
    "    Returns:\n",
    "    - None\n",
    "    \"\"\"\n",
    "    plt.title(title)\n",
    "    plt.plot(history.history['loss'])\n",
    "    plt.plot(history.history['val_loss'])\n",
    "    plt.ylabel('loss')\n",
    "    plt.xlabel('epoch')\n",
    "    plt.legend(['train_loss', 'validation_loss'], loc='best')\n",
    "    plt.show()\n"
   ]
  },
  {
   "cell_type": "markdown",
   "metadata": {},
   "source": [
    " <b><span style='color:black'>Step 5.3 |</span><span style='color:#742d0c '> Model Evaluation </span></b>"
   ]
  },
  {
   "cell_type": "code",
   "execution_count": null,
   "metadata": {
    "execution": {
     "iopub.status.busy": "2024-02-15T14:05:35.476625Z",
     "iopub.status.idle": "2024-02-15T14:05:35.476982Z",
     "shell.execute_reply": "2024-02-15T14:05:35.476817Z",
     "shell.execute_reply.started": "2024-02-15T14:05:35.476803Z"
    }
   },
   "outputs": [],
   "source": [
    "plot_accuracy(history, 'FOOD101-Inceptionv3')  # Plot training and validation accuracy\n",
    "plot_loss(history, 'FOOD101-Inceptionv3')      # Plot training and validation loss\n"
   ]
  },
  {
   "cell_type": "markdown",
   "metadata": {},
   "source": [
    "  \n",
    "- The plots show that the accuracy of the model increased with epochs and the loss has decreased\n",
    "- Validation accuracy has been on the higher side than training accuracy for many epochs\n",
    "This could be for several reasons:\n",
    "\n",
    "-   We used a pretrained model trained on ImageNet which contains data from a variety of classes\n",
    "-   Using dropout can lead to a higher validation accuracy"
   ]
  },
  {
   "cell_type": "code",
   "execution_count": null,
   "metadata": {
    "execution": {
     "iopub.status.busy": "2024-02-15T14:05:35.478292Z",
     "iopub.status.idle": "2024-02-15T14:05:35.478611Z",
     "shell.execute_reply": "2024-02-15T14:05:35.478465Z",
     "shell.execute_reply.started": "2024-02-15T14:05:35.478452Z"
    }
   },
   "outputs": [],
   "source": [
    "%%time\n",
    "# Loading the best saved model to make predictions\n",
    "K.clear_session()  # Clear Keras session\n",
    "model_best = load_model('best_model_3class.hdf5', compile=False)  # Load the best saved model\n"
   ]
  },
  {
   "cell_type": "markdown",
   "metadata": {},
   "source": [
    "  \n",
    "- Setting compile=False and clearing the session leads to faster loading of the saved model\n",
    "- Withouth the above addiitons, model loading was taking more than a minute!"
   ]
  },
  {
   "cell_type": "markdown",
   "metadata": {},
   "source": [
    " <b><span style='color:black'>Step 5.4 |</span><span style='color:#742d0c '> Predicting Class Label </span></b>\n"
   ]
  },
  {
   "cell_type": "code",
   "execution_count": null,
   "metadata": {
    "execution": {
     "iopub.status.busy": "2024-02-15T14:05:35.479498Z",
     "iopub.status.idle": "2024-02-15T14:05:35.479827Z",
     "shell.execute_reply": "2024-02-15T14:05:35.479681Z",
     "shell.execute_reply.started": "2024-02-15T14:05:35.479668Z"
    }
   },
   "outputs": [],
   "source": [
    "def predict_class(model, images, show=True):\n",
    "    \"\"\"\n",
    "    Predict the class label for each image in the given list of image paths.\n",
    "    \n",
    "    Args:\n",
    "    - model: Trained model for making predictions\n",
    "    - images: List of image paths\n",
    "    - show: Boolean flag to control image display\n",
    "    \n",
    "    Returns:\n",
    "    - None\n",
    "    \"\"\"\n",
    "    for img in images:\n",
    "        img = image.load_img(img, target_size=(299, 299))  # Load image and resize to model's input size\n",
    "        img = image.img_to_array(img)                     # Convert image to numpy array\n",
    "        img = np.expand_dims(img, axis=0)                 # Add batch dimension\n",
    "        img /= 255.                                       # Normalize pixel values\n",
    "\n",
    "        pred = model.predict(img)                         # Make prediction\n",
    "        index = np.argmax(pred)                           # Get the index of the class with the highest probability\n",
    "        food_list.sort()                                  # Sort the list of food items\n",
    "        pred_value = food_list[index]                     # Get the predicted class label\n",
    "        \n",
    "        if show:\n",
    "            plt.imshow(img[0])                           # Display the image\n",
    "            plt.axis('off')\n",
    "            plt.title(pred_value)                        # Set title as the predicted class label\n",
    "            plt.show()\n"
   ]
  },
  {
   "cell_type": "markdown",
   "metadata": {},
   "source": [
    " <b><span style='color:black'>Step 5.5 |</span><span style='color:#742d0c '> Downloading Images from the Internet</span></b>\n",
    "\n"
   ]
  },
  {
   "cell_type": "code",
   "execution_count": null,
   "metadata": {
    "execution": {
     "iopub.status.busy": "2024-02-15T14:05:35.480792Z",
     "iopub.status.idle": "2024-02-15T14:05:35.481137Z",
     "shell.execute_reply": "2024-02-15T14:05:35.480989Z",
     "shell.execute_reply.started": "2024-02-15T14:05:35.480975Z"
    }
   },
   "outputs": [],
   "source": [
    "# Downloading images from internet using the URLs\n",
    "!wget -O samosa.jpg http://veggiefoodrecipes.com/wp-content/uploads/2016/05/lentil-samosa-recipe-01.jpg\n",
    "!wget -O applepie.jpg https://acleanbake.com/wp-content/uploads/2017/10/Paleo-Apple-Pie-with-Crumb-Topping-gluten-free-grain-free-dairy-free-15.jpg\n",
    "!wget -O pizza.jpg http://104.130.3.186/assets/itemimages/400/400/3/default_9b4106b8f65359684b3836096b4524c8_pizza%20dreamstimesmall_94940296.jpg\n",
    "!wget -O omelette.jpg https://www.incredibleegg.org/wp-content/uploads/basic-french-omelet-930x550.jpg\n"
   ]
  },
  {
   "cell_type": "code",
   "execution_count": null,
   "metadata": {
    "execution": {
     "iopub.status.busy": "2024-02-15T14:05:35.482525Z",
     "iopub.status.idle": "2024-02-15T14:05:35.482980Z",
     "shell.execute_reply": "2024-02-15T14:05:35.482750Z",
     "shell.execute_reply.started": "2024-02-15T14:05:35.482732Z"
    }
   },
   "outputs": [],
   "source": [
    "# Make a list of downloaded images\n",
    "images = ['applepie.jpg', 'pizza.jpg', 'omelette.jpg']\n",
    "\n",
    "# Test the trained model\n",
    "predict_class(model_best, images, True)\n",
    "\n"
   ]
  },
  {
   "cell_type": "markdown",
   "metadata": {},
   "source": [
    "<h3 align=\"left\"><font>Yes!!! The model got them all right!!</font></h3>\n"
   ]
  },
  {
   "cell_type": "markdown",
   "metadata": {},
   "source": [
    " <p style=\"background-color: #742d0c; font-family:calibri; color:white; font-size:170%; font-family:Verdana; text-align:center; border-radius:15px 50px;\">Fine tune Inceptionv3 model with 11 classes of data</p>\n",
    "\n"
   ]
  },
  {
   "cell_type": "markdown",
   "metadata": {},
   "source": [
    "  \n",
    "- We trained a model on 3 classes and tested it using new data\n",
    "- The model was able to predict the classes of all three test images correctly\n",
    "- Will it be able to perform at the same level of accuracy for more classes?\n",
    "- FOOD-101 dataset has 101 classes of data\n",
    "- Even with fine tuning using a pre-trained model, each epoch was taking more than an hour when all 101 classes of data is used(tried this on both Colab and on a Deep Learning VM instance with P100 GPU on GCP)\n",
    "- But to check how the model performs when more classes are included, I'm using the same model to fine tune and train on 11 randomly chosen classes"
   ]
  },
  {
   "cell_type": "code",
   "execution_count": null,
   "metadata": {
    "execution": {
     "iopub.status.busy": "2024-02-15T14:05:35.484503Z",
     "iopub.status.idle": "2024-02-15T14:05:35.484955Z",
     "shell.execute_reply": "2024-02-15T14:05:35.484738Z",
     "shell.execute_reply.started": "2024-02-15T14:05:35.484720Z"
    }
   },
   "outputs": [],
   "source": [
    "def pick_n_random_classes(n):\n",
    "    \"\"\"\n",
    "    Select n random food classes from the sorted list of food items.\n",
    "    \n",
    "    Args:\n",
    "    - n: Number of random food classes to select\n",
    "    \n",
    "    Returns:\n",
    "    - List of n randomly selected food classes\n",
    "    \"\"\"\n",
    "    food_list = []\n",
    "    random_food_indices = random.sample(range(len(foods_sorted)), n)  # Sample n random indices\n",
    "    for i in random_food_indices:\n",
    "        food_list.append(foods_sorted[i])  # Retrieve corresponding food items\n",
    "    food_list.sort()  # Sort the list of randomly selected food classes\n",
    "    return food_list\n"
   ]
  },
  {
   "cell_type": "code",
   "execution_count": null,
   "metadata": {
    "execution": {
     "iopub.status.busy": "2024-02-15T14:05:35.486535Z",
     "iopub.status.idle": "2024-02-15T14:05:35.486873Z",
     "shell.execute_reply": "2024-02-15T14:05:35.486722Z",
     "shell.execute_reply.started": "2024-02-15T14:05:35.486708Z"
    }
   },
   "outputs": [],
   "source": [
    "n = 11  # Number of random food classes to select\n",
    "food_list = pick_n_random_classes(n)  # Select n random food classes\n",
    "food_list = ['apple_pie', 'beef_carpaccio', 'bibimbap', 'cup_cakes', 'foie_gras', 'french_fries', 'garlic_bread', 'pizza', 'spring_rolls', 'spaghetti_carbonara', 'strawberry_shortcake']\n",
    "print(\"These are the randomly picked food classes we will be training the model on...\\n\", food_list)\n"
   ]
  },
  {
   "cell_type": "code",
   "execution_count": null,
   "metadata": {
    "execution": {
     "iopub.status.busy": "2024-02-15T14:05:35.488547Z",
     "iopub.status.idle": "2024-02-15T14:05:35.488988Z",
     "shell.execute_reply": "2024-02-15T14:05:35.488780Z",
     "shell.execute_reply.started": "2024-02-15T14:05:35.488762Z"
    }
   },
   "outputs": [],
   "source": [
    "# Print a message indicating the start of the process\n",
    "print(\"Creating training data folder with new classes...\")\n",
    "\n",
    "# Call the dataset_mini function to create a new data subset with the selected food classes for training\n",
    "dataset_mini(food_list, src_train, dest_train)\n"
   ]
  },
  {
   "cell_type": "code",
   "execution_count": null,
   "metadata": {
    "execution": {
     "iopub.status.busy": "2024-02-15T14:05:35.490535Z",
     "iopub.status.idle": "2024-02-15T14:05:35.490900Z",
     "shell.execute_reply": "2024-02-15T14:05:35.490746Z",
     "shell.execute_reply.started": "2024-02-15T14:05:35.490729Z"
    }
   },
   "outputs": [],
   "source": [
    "# Print the total number of samples in the train folder\n",
    "print(\"Total number of samples in train folder\")\n",
    "\n",
    "# Count the number of files and directories in the train_mini folder and print the count\n",
    "!find train_mini -type d -or -type f -printf '.' | wc -c\n"
   ]
  },
  {
   "cell_type": "code",
   "execution_count": null,
   "metadata": {
    "execution": {
     "iopub.status.busy": "2024-02-15T14:05:35.492073Z",
     "iopub.status.idle": "2024-02-15T14:05:35.492414Z",
     "shell.execute_reply": "2024-02-15T14:05:35.492259Z",
     "shell.execute_reply.started": "2024-02-15T14:05:35.492229Z"
    }
   },
   "outputs": [],
   "source": [
    "# Print a message indicating the start of the process\n",
    "print(\"Creating test data folder with new classes\")\n",
    "\n",
    "# Call the dataset_mini function to create a new data subset with the selected food classes for testing\n",
    "dataset_mini(food_list, src_test, dest_test)\n"
   ]
  },
  {
   "cell_type": "code",
   "execution_count": null,
   "metadata": {
    "execution": {
     "iopub.status.busy": "2024-02-15T14:05:35.493475Z",
     "iopub.status.idle": "2024-02-15T14:05:35.493799Z",
     "shell.execute_reply": "2024-02-15T14:05:35.493654Z",
     "shell.execute_reply.started": "2024-02-15T14:05:35.493640Z"
    }
   },
   "outputs": [],
   "source": [
    "# Print a message indicating the start of the process\n",
    "print(\"Total number of samples in test folder\")\n",
    "\n",
    "# Count the number of files and directories in the test_mini folder and print the count\n",
    "!find test_mini -type d -or -type f -printf '.' | wc -c\n"
   ]
  },
  {
   "cell_type": "code",
   "execution_count": null,
   "metadata": {
    "execution": {
     "iopub.status.busy": "2024-02-15T14:05:35.495323Z",
     "iopub.status.idle": "2024-02-15T14:05:35.495662Z",
     "shell.execute_reply": "2024-02-15T14:05:35.495515Z",
     "shell.execute_reply.started": "2024-02-15T14:05:35.495501Z"
    }
   },
   "outputs": [],
   "source": [
    "# Clear any previous sessions to free up memory\n",
    "K.clear_session()\n",
    "\n",
    "# Set the number of classes\n",
    "n_classes = n\n",
    "\n",
    "# Set the dimensions of input images\n",
    "img_width, img_height = 299, 299\n",
    "\n",
    "# Set the paths for the training and validation data directories\n",
    "train_data_dir = 'train_mini'\n",
    "validation_data_dir = 'test_mini'\n",
    "\n",
    "# Set the number of training and validation samples\n",
    "nb_train_samples = 8250\n",
    "nb_validation_samples = 2750\n",
    "\n",
    "# Set the batch size for training\n",
    "batch_size = 16\n",
    "\n",
    "# Define data augmentation for training images\n",
    "train_datagen = ImageDataGenerator(\n",
    "    rescale=1. / 255,\n",
    "    shear_range=0.2,\n",
    "    zoom_range=0.2,\n",
    "    horizontal_flip=True)\n",
    "\n",
    "# Define data augmentation for validation images\n",
    "test_datagen = ImageDataGenerator(rescale=1. / 255)\n",
    "\n",
    "# Generate batches of augmented training and validation data\n",
    "train_generator = train_datagen.flow_from_directory(\n",
    "    train_data_dir,\n",
    "    target_size=(img_height, img_width),\n",
    "    batch_size=batch_size,\n",
    "    class_mode='categorical')\n",
    "\n",
    "validation_generator = test_datagen.flow_from_directory(\n",
    "    validation_data_dir,\n",
    "    target_size=(img_height, img_width),\n",
    "    batch_size=batch_size,\n",
    "    class_mode='categorical')\n",
    "\n",
    "# Load the InceptionV3 model pretrained on ImageNet without the top layer\n",
    "inception = InceptionV3(weights='imagenet', include_top=False)\n",
    "\n",
    "# Add custom top layers for classification\n",
    "x = inception.output\n",
    "x = GlobalAveragePooling2D()(x)\n",
    "x = Dense(128, activation='relu')(x)\n",
    "x = Dropout(0.2)(x)\n",
    "predictions = Dense(n, kernel_regularizer=regularizers.l2(0.005), activation='softmax')(x)\n",
    "\n",
    "# Create the final model\n",
    "model = Model(inputs=inception.input, outputs=predictions)\n",
    "\n",
    "# Compile the model\n",
    "model.compile(optimizer=SGD(lr=0.0001, momentum=0.9), loss='categorical_crossentropy', metrics=['accuracy'])\n",
    "\n",
    "# Define callbacks for model checkpointing and logging\n",
    "checkpointer = ModelCheckpoint(filepath='best_model_11class.hdf5', verbose=1, save_best_only=True)\n",
    "csv_logger = CSVLogger('history_11class.log')\n",
    "\n",
    "# Train the model\n",
    "history_11class = model.fit_generator(train_generator,\n",
    "                    steps_per_epoch=nb_train_samples // batch_size,\n",
    "                    validation_data=validation_generator,\n",
    "                    validation_steps=nb_validation_samples // batch_size,\n",
    "                    epochs=30,\n",
    "                    verbose=1,\n",
    "                    callbacks=[csv_logger, checkpointer])\n",
    "\n",
    "# Save the trained model\n",
    "model.save('model_trained_11class.hdf5')\n"
   ]
  },
  {
   "cell_type": "code",
   "execution_count": null,
   "metadata": {
    "execution": {
     "iopub.status.busy": "2024-02-15T14:05:35.499772Z",
     "iopub.status.idle": "2024-02-15T14:05:35.500076Z",
     "shell.execute_reply": "2024-02-15T14:05:35.499938Z",
     "shell.execute_reply.started": "2024-02-15T14:05:35.499925Z"
    }
   },
   "outputs": [],
   "source": [
    "# Get the class indices for the 11 food classes from the training data generator\n",
    "class_map_11 = train_generator.class_indices\n",
    "class_map_11\n"
   ]
  },
  {
   "cell_type": "code",
   "execution_count": null,
   "metadata": {},
   "outputs": [],
   "source": [
    "# Plot the accuracy over epochs for the training and validation sets\n",
    "plot_accuracy(history_11class, 'FOOD101-Inceptionv3')\n",
    "\n",
    "# Plot the loss over epochs for the training and validation sets\n",
    "plot_loss(history_11class, 'FOOD101-Inceptionv3')\n"
   ]
  },
  {
   "cell_type": "markdown",
   "metadata": {},
   "source": [
    "  \n",
    "- The plots show that the accuracy of the model increased with epochs and the loss has decreased\n",
    "- Validation accuracy has been on the higher side than training accuracy for many epochs\n",
    "- This could be for several reasons:\n",
    "    - We used a pretrained model trained on ImageNet which contains data from a variety of classes\n",
    "    - Using dropout can lead to a higher validation accuracy \n"
   ]
  },
  {
   "cell_type": "code",
   "execution_count": null,
   "metadata": {},
   "outputs": [],
   "source": [
    "%%time\n",
    "# Clear any previous session and load the best saved model for predictions\n",
    "K.clear_session()\n",
    "model_best = load_model('best_model_11class.hdf5', compile=False)\n"
   ]
  },
  {
   "cell_type": "code",
   "execution_count": null,
   "metadata": {},
   "outputs": [],
   "source": [
    "# Downloading images from internet using the URLs\n",
    "!wget -O cupcakes.jpg https://www.publicdomainpictures.net/pictures/110000/nahled/halloween-witch-cupcakes.jpg\n",
    "!wget -O springrolls.jpg https://upload.wikimedia.org/wikipedia/commons/6/6f/Vietnamese_spring_rolls.jpg\n",
    "!wget -O pizza.jpg http://104.130.3.186/assets/itemimages/400/400/3/default_9b4106b8f65359684b3836096b4524c8_pizza%20dreamstimesmall_94940296.jpg\n",
    "!wget -O garlicbread.jpg https://c1.staticflickr.com/1/84/262952165_7ba3466108_z.jpg?zz=1\n",
    "\n",
    "# If you have an image in your local computer and want to try it, uncomment the below code to upload the image files\n",
    "\n",
    "\n",
    "# from google.colab import files\n",
    "# image = files.upload()"
   ]
  },
  {
   "cell_type": "code",
   "execution_count": null,
   "metadata": {},
   "outputs": [],
   "source": [
    "# Make a list of downloaded images and test the trained model\n",
    "images = []\n",
    "images.append('cupcakes.jpg')\n",
    "images.append('pizza.jpg')\n",
    "images.append('springrolls.jpg')\n",
    "images.append('garlicbread.jpg')\n",
    "predict_class(model_best, images, True)"
   ]
  },
  {
   "cell_type": "markdown",
   "metadata": {},
   "source": [
    "  \n",
    "- The model did well even when the number of classes are increased to 11\n",
    "- Model training on all 101 classes takes some time\n",
    "- It was taking more than an hour for one epoch when the full dataset is used for fine tuning"
   ]
  },
  {
   "cell_type": "markdown",
   "metadata": {},
   "source": [
    " <p style=\"background-color: #742d0c; font-family:calibri; color:white; font-size:140%; font-family:Verdana; text-align:center; border-radius:15px 50px;\">Step 6 | Model Explainability</p>\n"
   ]
  },
  {
   "cell_type": "markdown",
   "metadata": {},
   "source": [
    " \n",
    "- Human lives and Technology are blending more and more together\n",
    "- The rapid advancements in technology over the past few years can be attributed to how Neural Networks have evolved\n",
    "- Neural Networks and Deep Learning are now being used in so many fields and industries - healthcare, finance, retail, automative etc\n",
    "- Thanks to the Deep Learning libraries which enable us to develop applications/models with few lines of code, which a decade ago only those with a lot of expertise and research could do\n",
    "- All of this calls for the need to understand how neural networks do what they do and how they do it\n",
    "- This has led to an active area of research - Neural Network Model Interpretability and Explainability"
   ]
  },
  {
   "cell_type": "markdown",
   "metadata": {},
   "source": [
    "\n",
    "- Neural Networks learn incrementally\n",
    "- How does a neural network know what is in the image and how does it conclude that its a dog?\n",
    "- The best analogy to understand the incremental learning of the model here is to think about how we would hand sketch the dog\n",
    "- You can't start right away by drawing eyes, nose, snout etc\n",
    "- To have any of those dogly features, you need a lot of edges and curves\n",
    "- You start with edges/lines, put many of them together\n",
    "- Use edges with curves to sketch patterns\n",
    "- The patterns with more finer details will help us draw the visible features of a dog like eyes, ears, snout etc\n",
    "- Neural networks adopt a very similar process when they are busy detecting what's in the provided data examples"
   ]
  },
  {
   "cell_type": "markdown",
   "metadata": {},
   "source": [
    "![](https://images.deepai.org/publication-preview/visualizing-and-understanding-convolutional-networks-page-4-medium.jpg)"
   ]
  },
  {
   "cell_type": "markdown",
   "metadata": {},
   "source": [
    "  \n",
    "* The above image is taken from the paper - [Visualizing and Understanding Convolutional Networks](https://arxiv.org/abs/1311.2901)\n",
    "* The image contains the features of a trained model along with the kind of objects they would detect\n",
    "* In the first row and first column, we have a grid of edge detecting features in layer 1 and some curve detectors in layer 2 in the 2nd column\n",
    "* The last column in 1st row are the kind of objects that get detected using those curvy features\n",
    "* With layer three in 2nd row, the model starts looking for patterns with edges and curves\n",
    "* The second column in second row contains examples of patterns that are detected in layer 3 of the model\n",
    "* With layer 4, the model starts detecting parts of object specific features and in layer 5 the model knows what's in the image"
   ]
  },
  {
   "cell_type": "markdown",
   "metadata": {},
   "source": [
    "\n",
    "* Using feature visualization, we can know what a neural network layer and its features are looking for\n",
    "* Using attribution, we can understand how the features impact the output and what regions in the image led the model to the generated output"
   ]
  },
  {
   "cell_type": "markdown",
   "metadata": {},
   "source": [
    "<p style=\"background-color: #742d0c; font-family:calibri; color:white; font-size:140%; font-family:Verdana; text-align:center; border-radius:15px 50px;\">Step 7 | Evaluating the Model</p>\n"
   ]
  },
  {
   "cell_type": "markdown",
   "metadata": {},
   "source": [
    " <b><span style='color:black'>Step 7.1 |</span><span style='color:#742d0c '> Loading the Saved Model and a Test Image</span></b>\n",
    "\n"
   ]
  },
  {
   "cell_type": "code",
   "execution_count": null,
   "metadata": {},
   "outputs": [],
   "source": [
    "# Load the saved model trained with 3 classes\n",
    "K.clear_session()\n",
    "print(\"Loading the model..\")\n",
    "model = load_model('best_model_3class.hdf5', compile=False)\n",
    "print(\"Done!\")\n"
   ]
  },
  {
   "cell_type": "markdown",
   "metadata": {},
   "source": [
    " <b><span style='color:black'>Step 7.2 |</span><span style='color:#742d0c '> Summary of the Model </span></b>\n",
    "\n"
   ]
  },
  {
   "cell_type": "code",
   "execution_count": null,
   "metadata": {},
   "outputs": [],
   "source": [
    "model.summary()"
   ]
  },
  {
   "cell_type": "markdown",
   "metadata": {},
   "source": [
    "<b><span style='color:black'>Step 7.3 |</span><span style='color:#742d0c '> Defining Helper Functions</span></b>\n",
    "\n"
   ]
  },
  {
   "cell_type": "code",
   "execution_count": null,
   "metadata": {},
   "outputs": [],
   "source": [
    "def deprocess_image(x):\n",
    "    # Normalize tensor: center on 0., ensure standard deviation is 0.1\n",
    "    x -= x.mean()\n",
    "    x /= (x.std() + 1e-5)\n",
    "    x *= 0.1\n",
    "\n",
    "    # Clip values to [0, 1]\n",
    "    x += 0.5\n",
    "    x = np.clip(x, 0, 1)\n",
    "\n",
    "    # Convert to RGB array\n",
    "    x *= 255\n",
    "    x = np.clip(x, 0, 255).astype('uint8')\n",
    "    return x\n"
   ]
  },
  {
   "cell_type": "markdown",
   "metadata": {},
   "source": [
    "<b><span style='color:black'>Step 7.4 |</span><span style='color:#742d0c '> Generating Pattern Function\n",
    "</span></b>\n"
   ]
  },
  {
   "cell_type": "code",
   "execution_count": null,
   "metadata": {},
   "outputs": [],
   "source": [
    "def generate_pattern(layer_name, filter_index, size=150):\n",
    "    # Build a loss function that maximizes the activation\n",
    "    # of the nth filter of the layer considered.\n",
    "    layer_output = model.get_layer(layer_name).output\n",
    "    loss = K.mean(layer_output[:, :, :, filter_index])\n",
    "\n",
    "    # Compute the gradient of the input picture wrt this loss\n",
    "    grads = K.gradients(loss, model.input)[0]\n",
    "\n",
    "    # Normalization trick: we normalize the gradient\n",
    "    grads /= (K.sqrt(K.mean(K.square(grads))) + 1e-5)\n",
    "\n",
    "    # This function returns the loss and grads given the input picture\n",
    "    iterate = K.function([model.input], [loss, grads])\n",
    "    \n",
    "    # We start from a gray image with some noise\n",
    "    input_img_data = np.random.random((1, size, size, 3)) * 20 + 128.\n",
    "\n",
    "    # Run gradient ascent for 40 steps\n",
    "    step = 1.\n",
    "    for i in range(40):\n",
    "        loss_value, grads_value = iterate([input_img_data])\n",
    "        input_img_data += grads_value * step\n",
    "        \n",
    "    img = input_img_data[0]\n",
    "    return deprocess_image(img)\n"
   ]
  },
  {
   "cell_type": "markdown",
   "metadata": {},
   "source": [
    " <b><span style='color:black'>Step 7.5 |</span><span style='color:#742d0c '> Getting Activations Function\n",
    "</span></b>\n"
   ]
  },
  {
   "cell_type": "code",
   "execution_count": null,
   "metadata": {},
   "outputs": [],
   "source": [
    "def get_activations(img, model_activations):\n",
    "    \"\"\"\n",
    "    Get activations of a model for a given image.\n",
    "\n",
    "    Args:\n",
    "    img (str): Path to the image file.\n",
    "    model_activations (Model): Model object to get activations from.\n",
    "\n",
    "    Returns:\n",
    "    numpy.ndarray: Activations produced by the model.\n",
    "    \"\"\"\n",
    "    # Load and preprocess the image\n",
    "    img = image.load_img(img, target_size=(299, 299))\n",
    "    img = image.img_to_array(img)                    \n",
    "    img = np.expand_dims(img, axis=0)         \n",
    "    img /= 255. \n",
    "    # Visualize the image\n",
    "    plt.imshow(img[0])\n",
    "    plt.show()\n",
    "    # Get activations\n",
    "    return model_activations.predict(img)\n"
   ]
  },
  {
   "cell_type": "markdown",
   "metadata": {},
   "source": [
    " <b><span style='color:black'>Step 7.6 |</span><span style='color:#742d0c '> Showing Activations Function\n",
    "</span></b>\n"
   ]
  },
  {
   "cell_type": "code",
   "execution_count": null,
   "metadata": {},
   "outputs": [],
   "source": [
    "def show_activations(activations, layer_names):\n",
    "    \"\"\"\n",
    "    Display feature maps for each layer.\n",
    "\n",
    "    Args:\n",
    "    activations (list of numpy.ndarray): List of activation tensors for each layer.\n",
    "    layer_names (list of str): Names of the layers.\n",
    "\n",
    "    Returns:\n",
    "    None\n",
    "    \"\"\"\n",
    "    images_per_row = 16\n",
    "\n",
    "    # Loop through each layer\n",
    "    for layer_name, layer_activation in zip(layer_names, activations):\n",
    "        # Number of features in the feature map\n",
    "        n_features = layer_activation.shape[-1]\n",
    "\n",
    "        # Size of the feature map\n",
    "        size = layer_activation.shape[1]\n",
    "\n",
    "        # Number of columns for visualization\n",
    "        n_cols = n_features // images_per_row\n",
    "        display_grid = np.zeros((size * n_cols, images_per_row * size))\n",
    "\n",
    "        # Tile each filter into a big horizontal grid\n",
    "        for col in range(n_cols):\n",
    "            for row in range(images_per_row):\n",
    "                channel_image = layer_activation[0, :, :, col * images_per_row + row]\n",
    "                # Post-process the feature to make it visually palatable\n",
    "                channel_image -= channel_image.mean()\n",
    "                channel_image /= channel_image.std()\n",
    "                channel_image *= 64\n",
    "                channel_image += 128\n",
    "                channel_image = np.clip(channel_image, 0, 255).astype('uint8')\n",
    "                display_grid[col * size : (col + 1) * size, row * size : (row + 1) * size] = channel_image\n",
    "\n",
    "        # Display the grid\n",
    "        scale = 1. / size\n",
    "        plt.figure(figsize=(scale * display_grid.shape[1], scale * display_grid.shape[0]))\n",
    "        plt.title(layer_name)\n",
    "        plt.grid(False)\n",
    "        plt.imshow(display_grid, aspect='auto', cmap='viridis')\n",
    "\n",
    "    plt.show()\n"
   ]
  },
  {
   "cell_type": "markdown",
   "metadata": {},
   "source": [
    "\n",
    "Check how many layers are in the trained model(this includes the 1st input layer as well)\n"
   ]
  },
  {
   "cell_type": "code",
   "execution_count": null,
   "metadata": {},
   "outputs": [],
   "source": [
    "len(model.layers)\n"
   ]
  },
  {
   "cell_type": "markdown",
   "metadata": {},
   "source": [
    "  \n",
    "> 1. * Can we visualize the outputs of all the layers?\n",
    "* Yes, we can. But that gets too tedious\n",
    "* So, let's choose a few layers to visualize"
   ]
  },
  {
   "cell_type": "markdown",
   "metadata": {},
   "source": [
    "<b><span style='color:black'>Step 7.7 |</span><span style='color:#742d0c '> Extracting Intermediate Layer Activations</span></b>\n"
   ]
  },
  {
   "cell_type": "code",
   "execution_count": null,
   "metadata": {},
   "outputs": [],
   "source": [
    "# We start with index 1 instead of 0, as input layer is at index 0\n",
    "layers = [layer.output for layer in model.layers[1:11]]\n",
    "# We now initialize a model which takes an input and outputs the above chosen layers\n",
    "activations_output = models.Model(inputs=model.input, outputs=layers)\n"
   ]
  },
  {
   "cell_type": "markdown",
   "metadata": {},
   "source": [
    "As seen below, the 10 chosen layers contain 3 convolution, 3 batch normalization, 3 activation and 1 max pooling layers\n"
   ]
  },
  {
   "cell_type": "code",
   "execution_count": null,
   "metadata": {},
   "outputs": [],
   "source": [
    "layers"
   ]
  },
  {
   "cell_type": "markdown",
   "metadata": {},
   "source": [
    "  \n",
    ">  * Get the names of all the selected layers"
   ]
  },
  {
   "cell_type": "markdown",
   "metadata": {},
   "source": [
    " <b><span style='color:black'>Step 7.8 |</span><span style='color:#742d0c '> Extracting Layer Names for Intermediate Activations\n",
    "</span></b>\n"
   ]
  },
  {
   "cell_type": "code",
   "execution_count": null,
   "metadata": {},
   "outputs": [],
   "source": [
    "# Initialize an empty list to store the names of the layers\n",
    "layer_names = []\n",
    "\n",
    "# Iterate through the layers of the model starting from index 1 and ending at index 10 (inclusive)\n",
    "for layer in model.layers[1:11]:\n",
    "    # Append the name of each layer to the list\n",
    "    layer_names.append(layer.name)\n",
    "\n",
    "# Print the list of layer names\n",
    "print(layer_names)\n"
   ]
  },
  {
   "cell_type": "markdown",
   "metadata": {},
   "source": [
    "  \n",
    "Provide an input to the model and get the activations of all the 10 chosen layers\n"
   ]
  },
  {
   "cell_type": "code",
   "execution_count": null,
   "metadata": {},
   "outputs": [],
   "source": [
    "# Define the filename of the image\n",
    "food = 'applepie.jpg'\n",
    "\n",
    "# Get the activations of the model for the specified image using the defined activations_output model\n",
    "activations = get_activations(food, activations_output)\n"
   ]
  },
  {
   "cell_type": "markdown",
   "metadata": {},
   "source": [
    "\n",
    "**activations** contain the outputs of all the 10 layers which can be plotted and visualized"
   ]
  },
  {
   "cell_type": "markdown",
   "metadata": {},
   "source": [
    "Visualize the activations of intermediate layers from layer 1 to 10"
   ]
  },
  {
   "cell_type": "code",
   "execution_count": null,
   "metadata": {},
   "outputs": [],
   "source": [
    "# Visualize the activations of the model for the specified image using the defined layer names\n",
    "show_activations(activations, layer_names)\n"
   ]
  },
  {
   "cell_type": "markdown",
   "metadata": {},
   "source": [
    "\n",
    "* What we see in the above plots are the activations or the outputs of each of the 11 layers we chose \n",
    "* The activations or the outputs from the 1st layer(conv2d_1) don't lose much information of the original input\n",
    "* They are the results of applying several edge detecting filters on the input image**\n",
    "* With each added layer, the activations lose visual/input information and keeps building on the class/ouput information\n",
    "* As the depth increases, the layers activations become less visually interpretabale and more abstract\n",
    "* By doing so, they learn to detect more specific features of the class rather than just edges and curves\n",
    "* We plotted just 10 out of 314 intermediate layers. We already have in these few layers, activations which are blank/sparse(for ex: the 2 blank activations in the layer activation_1)\n",
    "* These blank/sparse activations are caused when any of the filters used in that layer didn't find a matching pattern in the input given to it\n",
    "* By plotting more layers(specially those towards the end of the network), we can observe more of these sparse activations and how the layers get more abstract\n"
   ]
  },
  {
   "cell_type": "markdown",
   "metadata": {},
   "source": [
    " <b><span style='color:black'>Step 7.9 |</span><span style='color:#742d0c '> Getting the Activations for a Different Input / Food\n",
    "</span></b>\n",
    "\n"
   ]
  },
  {
   "cell_type": "code",
   "execution_count": null,
   "metadata": {},
   "outputs": [],
   "source": [
    "# Get the activations for the specified image using the defined layer names\n",
    "activations = get_activations(food, activations_output)\n"
   ]
  },
  {
   "cell_type": "code",
   "execution_count": null,
   "metadata": {},
   "outputs": [],
   "source": [
    "# Display the activations for the specified image using the defined layer names\n",
    "show_activations(activations, layer_names)\n"
   ]
  },
  {
   "cell_type": "markdown",
   "metadata": {},
   "source": [
    "\n",
    "* The feature maps in the above activations are for a different input image\n",
    "* We see the same patterns discussed for the previous input image\n",
    "* It is interesting to see the blank/sparse activations in the same layer(activation_1) and for same filters when a different image is passed to the network\n",
    "* Remember we used a pretrained Inceptionv3 model. All the filters that are used in different layers come from this pretrained model"
   ]
  },
  {
   "cell_type": "markdown",
   "metadata": {},
   "source": [
    "<b><span style='color:black'>Step 7.10 |</span><span style='color:#742d0c '> Look into the Sparse Activations in the Layer Activation_1\n",
    "</span></b>\n"
   ]
  },
  {
   "cell_type": "markdown",
   "metadata": {},
   "source": [
    "\n",
    "* We have two blank/sparse activations in layer 6\n",
    "* Below cell displays one of the sparse activations"
   ]
  },
  {
   "cell_type": "code",
   "execution_count": null,
   "metadata": {},
   "outputs": [],
   "source": [
    "# Get the index of activation_1 layer which has sparse activations\n",
    "ind = layer_names.index('activation_1')\n",
    "sparse_activation = activations[ind]\n",
    "# Select the activation values of a specific filter\n",
    "a = sparse_activation[0, :, :, 13]\n"
   ]
  },
  {
   "cell_type": "code",
   "execution_count": null,
   "metadata": {},
   "outputs": [],
   "source": [
    "all(np.isnan(a[j][k]) for j in range(a.shape[0]) for k in range(a.shape[1]))\n",
    "#This line checks if all elements in the array a are NaN."
   ]
  },
  {
   "cell_type": "markdown",
   "metadata": {},
   "source": [
    "\n",
    "* We can see that the activation has all nan values(it was all zeros when executed outside Kaggle, Im yet to figure out why its showing all nan values here\n",
    " \n",
    "* To know why we have all zero/nan values for this activation, lets visualize the activation at same index 13 from previous layer"
   ]
  },
  {
   "cell_type": "code",
   "execution_count": null,
   "metadata": {},
   "outputs": [],
   "source": [
    "# Get the index of batch_normalization_1 layer which has sparse activations\n",
    "ind = layer_names.index('batch_normalization_1')\n",
    "# Extract sparse activations from the layer\n",
    "sparse_activation = activations[ind]\n",
    "# Select activations for the 14th filter\n",
    "b = sparse_activation[0, :, :, 13]\n",
    "# Print the sparse activations\n",
    "b"
   ]
  },
  {
   "cell_type": "markdown",
   "metadata": {},
   "source": [
    "\n",
    "* All the values in the above activation map from the layer batch_normalization_1 are negative\n",
    "* This activation in batch_normalization_1 is passed to the next layer activation_1 as input\n",
    "* As the name says, activation_1 is an activation layer and ReLu is the activation function used\n",
    "* ReLu takes an input value, returns 0 if its negative, the value otherwise\n",
    "* Since the input to activation array contains all negative values, the activation layer fills its activation map with all zeros for the index\n",
    "* Now we know why we have those 2 sparse activations in activation_1 layer"
   ]
  },
  {
   "cell_type": "markdown",
   "metadata": {},
   "source": [
    "<b><span style='color:black'>Step 7.11 |</span><span style='color:#742d0c '> Visualization of Convolutional Layer Activations\n",
    "\n",
    "</span></b>\n"
   ]
  },
  {
   "cell_type": "code",
   "execution_count": null,
   "metadata": {},
   "outputs": [],
   "source": [
    "# Extract activations for the first three convolutional layers\n",
    "first_convlayer_activation = activations[0]\n",
    "second_convlayer_activation = activations[3]\n",
    "third_convlayer_activation = activations[6]\n",
    "\n",
    "# Visualize the activations for each layer\n",
    "f, ax = plt.subplots(1, 3, figsize=(10, 10))\n",
    "\n",
    "# Plot activations for the first convolutional layer\n",
    "ax[0].imshow(first_convlayer_activation[0, :, :, 3], cmap='viridis')\n",
    "ax[0].axis('OFF')\n",
    "ax[0].set_title('Conv2d_1')\n",
    "\n",
    "# Plot activations for the second convolutional layer\n",
    "ax[1].imshow(second_convlayer_activation[0, :, :, 3], cmap='viridis')\n",
    "ax[1].axis('OFF')\n",
    "ax[1].set_title('Conv2d_2')\n",
    "\n",
    "# Plot activations for the third convolutional layer\n",
    "ax[2].imshow(third_convlayer_activation[0, :, :, 3], cmap='viridis')\n",
    "ax[2].axis('OFF')\n",
    "ax[2].set_title('Conv2d_3')\n"
   ]
  },
  {
   "cell_type": "markdown",
   "metadata": {},
   "source": [
    "<b><span style='color:black'>Step 7.12 |</span><span style='color:#742d0c '> Generating Class Activation Map (CAM)\n",
    "\n",
    "</span></b>\n"
   ]
  },
  {
   "cell_type": "code",
   "execution_count": null,
   "metadata": {},
   "outputs": [],
   "source": [
    "def get_attribution(food):\n",
    "    \"\"\"\n",
    "    Generate class activation map for a given food image using Grad-CAM technique.\n",
    "\n",
    "    Args:\n",
    "    food (str): Path to the food image.\n",
    "\n",
    "    Returns:\n",
    "    numpy.ndarray: Predictions made by the model for the input image.\n",
    "    \"\"\"\n",
    "    # Load and preprocess the input image\n",
    "    img = image.load_img(food, target_size=(299, 299))\n",
    "    img = image.img_to_array(img) \n",
    "    img /= 255. \n",
    "\n",
    "    # Display the input image\n",
    "    f, ax = plt.subplots(1, 3, figsize=(15, 15))\n",
    "    ax[0].imshow(img)\n",
    "    ax[0].set_title(\"Input Image\")\n",
    "\n",
    "    # Expand the dimensions and predict the class probabilities\n",
    "    img = np.expand_dims(img, axis=0) \n",
    "    preds = model.predict(img)\n",
    "    class_id = np.argmax(preds[0])\n",
    "\n",
    "    # Get the class output and last convolutional layer\n",
    "    class_output = model.output[:, class_id]\n",
    "    last_conv_layer = model.get_layer(\"mixed10\")\n",
    "    \n",
    "    # Calculate gradients and pooled gradients\n",
    "    grads = K.gradients(class_output, last_conv_layer.output)[0]\n",
    "    pooled_grads = K.mean(grads, axis=(0, 1, 2))\n",
    "    iterate = K.function([model.input], [pooled_grads, last_conv_layer.output[0]])\n",
    "    pooled_grads_value, conv_layer_output_value = iterate([img])\n",
    "\n",
    "    # Generate heatmap\n",
    "    for i in range(2048):\n",
    "        conv_layer_output_value[:, :, i] *= pooled_grads_value[i]\n",
    "    heatmap = np.mean(conv_layer_output_value, axis=-1)\n",
    "    heatmap = np.maximum(heatmap, 0)\n",
    "    heatmap /= np.max(heatmap)\n",
    "    ax[1].imshow(heatmap)\n",
    "    ax[1].set_title(\"Heat map\")\n",
    "    \n",
    "    # Overlay heatmap on the original image\n",
    "    act_img = cv2.imread(food)\n",
    "    heatmap = cv2.resize(heatmap, (act_img.shape[1], act_img.shape[0]))\n",
    "    heatmap = np.uint8(255 * heatmap)\n",
    "    heatmap = cv2.applyColorMap(heatmap, cv2.COLORMAP_JET)\n",
    "    superimposed = cv2.addWeighted(act_img, 0.6, heatmap, 0.4, 0)\n",
    "    cv2.imwrite('classactivation.png', superimposed)\n",
    "    img_act = image.load_img('classactivation.png', target_size=(299, 299))\n",
    "    ax[2].imshow(img_act)\n",
    "    ax[2].set_title(\"Class Activation\")\n",
    "    plt.show()\n",
    "    return preds\n"
   ]
  },
  {
   "cell_type": "code",
   "execution_count": null,
   "metadata": {},
   "outputs": [],
   "source": [
    "print(\"Showing the class map..\")\n",
    "print(class_map_3)\n"
   ]
  },
  {
   "cell_type": "markdown",
   "metadata": {},
   "source": [
    "<b><span style='color:black'>Step 7.13 |</span><span style='color:#742d0c '> Getting Attribution and Display Softmax Predictions\n",
    "\n",
    "</span></b>\n"
   ]
  },
  {
   "cell_type": "code",
   "execution_count": null,
   "metadata": {},
   "outputs": [],
   "source": [
    "# Get attribution for the image 'applepie.jpg' and display the softmax predictions\n",
    "pred = get_attribution('applepie.jpg')\n",
    "print(\"Here are softmax predictions:\", pred)\n"
   ]
  },
  {
   "cell_type": "code",
   "execution_count": null,
   "metadata": {},
   "outputs": [],
   "source": [
    "# Get attribution and display softmax predictions for the pizza image\n",
    "pred = get_attribution('pizza.jpg')\n",
    "print(\"Here are softmax predictions:\", pred)\n"
   ]
  },
  {
   "cell_type": "markdown",
   "metadata": {},
   "source": [
    " \n",
    "* We can see how the heat map is different for a different image i.e the model looks for a totally different features/regions if it has to classify it as a pizza\n",
    "- Lets see if we can break the model or see what it does when we surpise it with different data! \n",
    "* We trained our model to perform multi class classification and it seems to be doing well with >95% of accuracy\n",
    "* What will the model do when we give it an image which has more than one object that model is trained to classify?"
   ]
  },
  {
   "cell_type": "markdown",
   "metadata": {},
   "source": [
    " <b><span style='color:black'>Step 7.14 |</span><span style='color:#742d0c '> Downloading Images from URLs\n",
    "\n",
    "</span></b>\n"
   ]
  },
  {
   "cell_type": "code",
   "execution_count": null,
   "metadata": {},
   "outputs": [],
   "source": [
    "# Downloading images from internet using the URLs\n",
    "!wget -O piepizza.jpg https://raw.githubusercontent.com/theimgclist/PracticeGround/master/Food101/piepizza.jpg\n",
    "!wget -O piepizzas.png https://raw.githubusercontent.com/theimgclist/PracticeGround/master/Food101/piepizzas.png\n",
    "!wget -O pizzapie.jpg https://raw.githubusercontent.com/theimgclist/PracticeGround/master/Food101/pizzapie.jpg\n",
    "!wget -O pizzapies.png https://raw.githubusercontent.com/theimgclist/PracticeGround/master/Food101/pizzapies.png\n"
   ]
  },
  {
   "cell_type": "markdown",
   "metadata": {},
   "source": [
    "<b><span style='color:black'>Step 7.15 |</span><span style='color:#742d0c '> Loading and Retrieving Activations\n",
    "\n",
    "</span></b>\n"
   ]
  },
  {
   "cell_type": "code",
   "execution_count": null,
   "metadata": {},
   "outputs": [],
   "source": [
    "food = 'piepizza.jpg'\n",
    "activations = get_activations(food,activations_output)"
   ]
  },
  {
   "cell_type": "code",
   "execution_count": null,
   "metadata": {},
   "outputs": [],
   "source": [
    "show_activations(activations, layer_names)"
   ]
  },
  {
   "cell_type": "code",
   "execution_count": null,
   "metadata": {},
   "outputs": [],
   "source": [
    "pred = get_attribution('piepizza.jpg')\n",
    "print(\"Here are softmax predictions..\",pred)"
   ]
  },
  {
   "cell_type": "markdown",
   "metadata": {},
   "source": [
    "\n",
    "* Given an image with pizza and applepie, the model thinks its a pizza with 75.4% confidence and an applie pie with 18% confidence\n",
    "* Now let's flip the image vertically and see what the model does"
   ]
  },
  {
   "cell_type": "code",
   "execution_count": null,
   "metadata": {},
   "outputs": [],
   "source": [
    "food = 'pizzapie.jpg'\n",
    "activations = get_activations(food,activations_output)"
   ]
  },
  {
   "cell_type": "code",
   "execution_count": null,
   "metadata": {},
   "outputs": [],
   "source": [
    "pred = get_attribution('pizzapie.jpg')\n",
    "print(\"Here are softmax predictions..\",pred)"
   ]
  },
  {
   "cell_type": "markdown",
   "metadata": {},
   "source": [
    "\n",
    "* Well, the model flipped its output too!\n",
    "* The model now thinks its an apple pie with 49.7% confidence and a pizza with 31.9%"
   ]
  },
  {
   "cell_type": "markdown",
   "metadata": {},
   "source": [
    "<h2 align=\"left\"><font>More surprise data to the model...</font></h2>\n"
   ]
  },
  {
   "cell_type": "code",
   "execution_count": null,
   "metadata": {},
   "outputs": [],
   "source": [
    "food = 'pizzapies.png'\n",
    "activations = get_activations(food,activations_output)"
   ]
  },
  {
   "cell_type": "code",
   "execution_count": null,
   "metadata": {},
   "outputs": [],
   "source": [
    "pred = get_attribution('pizzapies.png')\n",
    "print(\"Here are softmax predictions..\",pred)"
   ]
  },
  {
   "cell_type": "markdown",
   "metadata": {},
   "source": [
    "\n",
    "* This time it's applie pie with 73% and a pizza with 19% confidence\n",
    "* Let's try one last horizontal flip, this is the last really!"
   ]
  },
  {
   "cell_type": "code",
   "execution_count": null,
   "metadata": {},
   "outputs": [],
   "source": [
    "food = 'piepizzas.png'\n",
    "activations = get_activations(food,activations_output)"
   ]
  },
  {
   "cell_type": "code",
   "execution_count": null,
   "metadata": {},
   "outputs": [],
   "source": [
    "pred = get_attribution('piepizzas.png')\n",
    "print(\"Here are softmax predictions..\",pred)"
   ]
  },
  {
   "cell_type": "markdown",
   "metadata": {},
   "source": [
    "\n",
    "* No surprise from model this time. We flipped the image but the model didnt flip its output\n",
    "* It's an apple pie again with 52% confidence"
   ]
  }
 ],
 "metadata": {
  "kernelspec": {
   "display_name": "Python 3 (ipykernel)",
   "language": "python",
   "name": "python3"
  },
  "language_info": {
   "codemirror_mode": {
    "name": "ipython",
    "version": 3
   },
   "file_extension": ".py",
   "mimetype": "text/x-python",
   "name": "python",
   "nbconvert_exporter": "python",
   "pygments_lexer": "ipython3",
   "version": "3.10.11"
  }
 },
 "nbformat": 4,
 "nbformat_minor": 4
}
